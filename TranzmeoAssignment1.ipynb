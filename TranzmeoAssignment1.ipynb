{
  "nbformat": 4,
  "nbformat_minor": 0,
  "metadata": {
    "colab": {
      "name": "TranzmeoAssignment1.ipynb",
      "provenance": []
    },
    "kernelspec": {
      "name": "python3",
      "display_name": "Python 3"
    },
    "language_info": {
      "name": "python"
    }
  },
  "cells": [
    {
      "cell_type": "markdown",
      "metadata": {
        "id": "OWbuXbKsv_8i"
      },
      "source": [
        "Environment Problem\n",
        "1. Familiarize yourself with the dataset, then write some python code which returns a line graph of the record high and record low temperatures by day of the year over the period 2005-2014. The area between the record high and record low temperatures for each day should be shaded.\n",
        "2. Overlay a scatter of the 2015 data for any points (highs and lows) for which the ten year record (2005-2014) record high or record low was broken in 2015.\n",
        "3. Watch out for leap days (i.e. February 29th), it is reasonable to remove these points from the dataset for the purpose of this visualization.\n",
        "4. Consider issues such as legends, labels, and chart junk.\n",
        "5. The data you have been given is near **Ann Arbor, Michigan, United States**, and visualize on map the stations the data.\n",
        "6. Plot Temperature Summary near Ann Arbor, Michigan, United States (Year 2015).  "
      ]
    },
    {
      "cell_type": "code",
      "metadata": {
        "id": "XcObkZJuwSA1"
      },
      "source": [
        "import pandas as pd \n",
        "import numpy as np\n",
        "import matplotlib.pyplot as plt\n",
        "import seaborn as sns\n"
      ],
      "execution_count": null,
      "outputs": []
    },
    {
      "cell_type": "code",
      "metadata": {
        "colab": {
          "base_uri": "https://localhost:8080/",
          "height": 202
        },
        "id": "kNE7Jp6HsSdw",
        "outputId": "56aa28d1-7399-4e89-ba80-cfd9ab355c61"
      },
      "source": [
        "df=pd.read_csv('/content/drive/MyDrive/python/tranzmeo/machine_test/temperature.csv')\n",
        "df.head()"
      ],
      "execution_count": null,
      "outputs": [
        {
          "output_type": "execute_result",
          "data": {
            "text/html": [
              "<div>\n",
              "<style scoped>\n",
              "    .dataframe tbody tr th:only-of-type {\n",
              "        vertical-align: middle;\n",
              "    }\n",
              "\n",
              "    .dataframe tbody tr th {\n",
              "        vertical-align: top;\n",
              "    }\n",
              "\n",
              "    .dataframe thead th {\n",
              "        text-align: right;\n",
              "    }\n",
              "</style>\n",
              "<table border=\"1\" class=\"dataframe\">\n",
              "  <thead>\n",
              "    <tr style=\"text-align: right;\">\n",
              "      <th></th>\n",
              "      <th>ID</th>\n",
              "      <th>Date</th>\n",
              "      <th>Element</th>\n",
              "      <th>Data_Value</th>\n",
              "    </tr>\n",
              "  </thead>\n",
              "  <tbody>\n",
              "    <tr>\n",
              "      <th>0</th>\n",
              "      <td>USW00094889</td>\n",
              "      <td>2014-11-12</td>\n",
              "      <td>TMAX</td>\n",
              "      <td>22</td>\n",
              "    </tr>\n",
              "    <tr>\n",
              "      <th>1</th>\n",
              "      <td>USC00208972</td>\n",
              "      <td>2009-04-29</td>\n",
              "      <td>TMIN</td>\n",
              "      <td>56</td>\n",
              "    </tr>\n",
              "    <tr>\n",
              "      <th>2</th>\n",
              "      <td>USC00200032</td>\n",
              "      <td>2008-05-26</td>\n",
              "      <td>TMAX</td>\n",
              "      <td>278</td>\n",
              "    </tr>\n",
              "    <tr>\n",
              "      <th>3</th>\n",
              "      <td>USC00205563</td>\n",
              "      <td>2005-11-11</td>\n",
              "      <td>TMAX</td>\n",
              "      <td>139</td>\n",
              "    </tr>\n",
              "    <tr>\n",
              "      <th>4</th>\n",
              "      <td>USC00200230</td>\n",
              "      <td>2014-02-27</td>\n",
              "      <td>TMAX</td>\n",
              "      <td>-106</td>\n",
              "    </tr>\n",
              "  </tbody>\n",
              "</table>\n",
              "</div>"
            ],
            "text/plain": [
              "            ID        Date Element  Data_Value\n",
              "0  USW00094889  2014-11-12    TMAX          22\n",
              "1  USC00208972  2009-04-29    TMIN          56\n",
              "2  USC00200032  2008-05-26    TMAX         278\n",
              "3  USC00205563  2005-11-11    TMAX         139\n",
              "4  USC00200230  2014-02-27    TMAX        -106"
            ]
          },
          "metadata": {},
          "execution_count": 2
        }
      ]
    },
    {
      "cell_type": "code",
      "metadata": {
        "id": "lQIkxkpmxj9c",
        "colab": {
          "base_uri": "https://localhost:8080/"
        },
        "outputId": "2d056c14-35a0-4022-edf5-3aa9bc5729f9"
      },
      "source": [
        "df.info()"
      ],
      "execution_count": null,
      "outputs": [
        {
          "output_type": "stream",
          "name": "stdout",
          "text": [
            "<class 'pandas.core.frame.DataFrame'>\n",
            "RangeIndex: 165085 entries, 0 to 165084\n",
            "Data columns (total 4 columns):\n",
            " #   Column      Non-Null Count   Dtype \n",
            "---  ------      --------------   ----- \n",
            " 0   ID          165085 non-null  object\n",
            " 1   Date        165085 non-null  object\n",
            " 2   Element     165085 non-null  object\n",
            " 3   Data_Value  165085 non-null  int64 \n",
            "dtypes: int64(1), object(3)\n",
            "memory usage: 5.0+ MB\n"
          ]
        }
      ]
    },
    {
      "cell_type": "code",
      "metadata": {
        "colab": {
          "base_uri": "https://localhost:8080/",
          "height": 294
        },
        "id": "txELsmAYcl0d",
        "outputId": "4dc7b979-8a71-4704-ae58-ead428863c13"
      },
      "source": [
        "df.describe()"
      ],
      "execution_count": null,
      "outputs": [
        {
          "output_type": "execute_result",
          "data": {
            "text/html": [
              "<div>\n",
              "<style scoped>\n",
              "    .dataframe tbody tr th:only-of-type {\n",
              "        vertical-align: middle;\n",
              "    }\n",
              "\n",
              "    .dataframe tbody tr th {\n",
              "        vertical-align: top;\n",
              "    }\n",
              "\n",
              "    .dataframe thead th {\n",
              "        text-align: right;\n",
              "    }\n",
              "</style>\n",
              "<table border=\"1\" class=\"dataframe\">\n",
              "  <thead>\n",
              "    <tr style=\"text-align: right;\">\n",
              "      <th></th>\n",
              "      <th>Data_Value</th>\n",
              "    </tr>\n",
              "  </thead>\n",
              "  <tbody>\n",
              "    <tr>\n",
              "      <th>count</th>\n",
              "      <td>165085.000000</td>\n",
              "    </tr>\n",
              "    <tr>\n",
              "      <th>mean</th>\n",
              "      <td>95.422116</td>\n",
              "    </tr>\n",
              "    <tr>\n",
              "      <th>std</th>\n",
              "      <td>123.515131</td>\n",
              "    </tr>\n",
              "    <tr>\n",
              "      <th>min</th>\n",
              "      <td>-343.000000</td>\n",
              "    </tr>\n",
              "    <tr>\n",
              "      <th>25%</th>\n",
              "      <td>0.000000</td>\n",
              "    </tr>\n",
              "    <tr>\n",
              "      <th>50%</th>\n",
              "      <td>94.000000</td>\n",
              "    </tr>\n",
              "    <tr>\n",
              "      <th>75%</th>\n",
              "      <td>189.000000</td>\n",
              "    </tr>\n",
              "    <tr>\n",
              "      <th>max</th>\n",
              "      <td>406.000000</td>\n",
              "    </tr>\n",
              "  </tbody>\n",
              "</table>\n",
              "</div>"
            ],
            "text/plain": [
              "          Data_Value\n",
              "count  165085.000000\n",
              "mean       95.422116\n",
              "std       123.515131\n",
              "min      -343.000000\n",
              "25%         0.000000\n",
              "50%        94.000000\n",
              "75%       189.000000\n",
              "max       406.000000"
            ]
          },
          "metadata": {},
          "execution_count": 4
        }
      ]
    },
    {
      "cell_type": "code",
      "metadata": {
        "id": "E-l-RJyGc4Lp"
      },
      "source": [
        "df = df.set_index('Date')\n",
        "df.index = pd.to_datetime(df.index)\n",
        "df['doy'] = df.index.dayofyear\n",
        "df['year'] = df.index.year\n"
      ],
      "execution_count": null,
      "outputs": []
    },
    {
      "cell_type": "code",
      "metadata": {
        "id": "VkBFHE1hfCPK"
      },
      "source": [
        "df = df[~((df.index.month == 2) & (df.index.day == 29))]\n",
        "\n",
        "mins = df[df['Element'] == 'TMIN']\n",
        "maxs = df[df['Element'] == 'TMAX']\n",
        "mins = mins.groupby(mins.index.dayofyear)['Data_Value'].min()\n",
        "maxs = maxs.groupby(maxs.index.dayofyear)['Data_Value'].max()"
      ],
      "execution_count": null,
      "outputs": []
    },
    {
      "cell_type": "code",
      "metadata": {
        "colab": {
          "base_uri": "https://localhost:8080/"
        },
        "id": "kk7oTO1rCS5f",
        "outputId": "a25cbd87-b277-45f6-e7f3-80854536ec83"
      },
      "source": [
        "mins.head(10)"
      ],
      "execution_count": null,
      "outputs": [
        {
          "output_type": "execute_result",
          "data": {
            "text/plain": [
              "Date\n",
              "1    -160\n",
              "2    -267\n",
              "3    -267\n",
              "4    -261\n",
              "5    -155\n",
              "6    -266\n",
              "7    -306\n",
              "8    -294\n",
              "9    -278\n",
              "10   -256\n",
              "Name: Data_Value, dtype: int64"
            ]
          },
          "metadata": {},
          "execution_count": 7
        }
      ]
    },
    {
      "cell_type": "code",
      "metadata": {
        "colab": {
          "base_uri": "https://localhost:8080/"
        },
        "id": "mPvFspqR-UPM",
        "outputId": "65847db0-ee37-48fe-b3ce-747b34b02d91"
      },
      "source": [
        "maxs.head()"
      ],
      "execution_count": null,
      "outputs": [
        {
          "output_type": "execute_result",
          "data": {
            "text/plain": [
              "Date\n",
              "1    156\n",
              "2    139\n",
              "3    133\n",
              "4    106\n",
              "5    128\n",
              "Name: Data_Value, dtype: int64"
            ]
          },
          "metadata": {},
          "execution_count": 15
        }
      ]
    },
    {
      "cell_type": "code",
      "metadata": {
        "colab": {
          "base_uri": "https://localhost:8080/",
          "height": 230
        },
        "id": "EkbAoeU4ihpI",
        "outputId": "d6b01fb1-2112-418e-fb40-2eec097c9bac"
      },
      "source": [
        "df.head()"
      ],
      "execution_count": null,
      "outputs": [
        {
          "output_type": "execute_result",
          "data": {
            "text/html": [
              "<div>\n",
              "<style scoped>\n",
              "    .dataframe tbody tr th:only-of-type {\n",
              "        vertical-align: middle;\n",
              "    }\n",
              "\n",
              "    .dataframe tbody tr th {\n",
              "        vertical-align: top;\n",
              "    }\n",
              "\n",
              "    .dataframe thead th {\n",
              "        text-align: right;\n",
              "    }\n",
              "</style>\n",
              "<table border=\"1\" class=\"dataframe\">\n",
              "  <thead>\n",
              "    <tr style=\"text-align: right;\">\n",
              "      <th></th>\n",
              "      <th>ID</th>\n",
              "      <th>Element</th>\n",
              "      <th>Data_Value</th>\n",
              "      <th>doy</th>\n",
              "      <th>year</th>\n",
              "    </tr>\n",
              "    <tr>\n",
              "      <th>Date</th>\n",
              "      <th></th>\n",
              "      <th></th>\n",
              "      <th></th>\n",
              "      <th></th>\n",
              "      <th></th>\n",
              "    </tr>\n",
              "  </thead>\n",
              "  <tbody>\n",
              "    <tr>\n",
              "      <th>2014-11-12</th>\n",
              "      <td>USW00094889</td>\n",
              "      <td>TMAX</td>\n",
              "      <td>22</td>\n",
              "      <td>316</td>\n",
              "      <td>2014</td>\n",
              "    </tr>\n",
              "    <tr>\n",
              "      <th>2009-04-29</th>\n",
              "      <td>USC00208972</td>\n",
              "      <td>TMIN</td>\n",
              "      <td>56</td>\n",
              "      <td>119</td>\n",
              "      <td>2009</td>\n",
              "    </tr>\n",
              "    <tr>\n",
              "      <th>2008-05-26</th>\n",
              "      <td>USC00200032</td>\n",
              "      <td>TMAX</td>\n",
              "      <td>278</td>\n",
              "      <td>147</td>\n",
              "      <td>2008</td>\n",
              "    </tr>\n",
              "    <tr>\n",
              "      <th>2005-11-11</th>\n",
              "      <td>USC00205563</td>\n",
              "      <td>TMAX</td>\n",
              "      <td>139</td>\n",
              "      <td>315</td>\n",
              "      <td>2005</td>\n",
              "    </tr>\n",
              "    <tr>\n",
              "      <th>2014-02-27</th>\n",
              "      <td>USC00200230</td>\n",
              "      <td>TMAX</td>\n",
              "      <td>-106</td>\n",
              "      <td>58</td>\n",
              "      <td>2014</td>\n",
              "    </tr>\n",
              "  </tbody>\n",
              "</table>\n",
              "</div>"
            ],
            "text/plain": [
              "                     ID Element  Data_Value  doy  year\n",
              "Date                                                  \n",
              "2014-11-12  USW00094889    TMAX          22  316  2014\n",
              "2009-04-29  USC00208972    TMIN          56  119  2009\n",
              "2008-05-26  USC00200032    TMAX         278  147  2008\n",
              "2005-11-11  USC00205563    TMAX         139  315  2005\n",
              "2014-02-27  USC00200230    TMAX        -106   58  2014"
            ]
          },
          "metadata": {},
          "execution_count": 12
        }
      ]
    },
    {
      "cell_type": "code",
      "metadata": {
        "id": "aQVGasCcfCRd"
      },
      "source": [
        "by_day = pd.DataFrame({'min':mins, 'max':maxs})\n",
        "\n",
        "min_15 = df.loc[(df['year'] == 2015) & (df['Element'] == 'TMIN'), 'Data_Value'] \n",
        "max_15 = df.loc[(df['year'] == 2015) & (df['Element'] == 'TMAX'), 'Data_Value']\n",
        "\n",
        "min_0514 = df.loc[(df['year'] != 2015) & (df['Element'] == 'TMIN'), 'Data_Value'].min()\n",
        "max_0514 = df.loc[(df['year'] != 2015) & (df['Element'] == 'TMAX'), 'Data_Value'].max()"
      ],
      "execution_count": null,
      "outputs": []
    },
    {
      "cell_type": "code",
      "metadata": {
        "colab": {
          "base_uri": "https://localhost:8080/"
        },
        "id": "aJM-g5Yfis8h",
        "outputId": "37506eec-06e6-4d3d-ee72-2b5cddc309fa"
      },
      "source": [
        "max_0514\n"
      ],
      "execution_count": null,
      "outputs": [
        {
          "output_type": "execute_result",
          "data": {
            "text/plain": [
              "406"
            ]
          },
          "metadata": {},
          "execution_count": 41
        }
      ]
    },
    {
      "cell_type": "code",
      "metadata": {
        "id": "a4OLgQiufCUo"
      },
      "source": [
        "below_rec_15 = min_15[min_15 < min_0514]\n",
        "above_rec_15 = max_15[max_15 > max_0514]\n",
        "\n",
        "below_rec_15.index = below_rec_15.index.dayofyear\n",
        "above_rec_15.index = above_rec_15.index.dayofyear"
      ],
      "execution_count": null,
      "outputs": []
    },
    {
      "cell_type": "code",
      "metadata": {
        "id": "XjzCbZXZfCZK",
        "colab": {
          "base_uri": "https://localhost:8080/",
          "height": 404
        },
        "outputId": "5c5e1611-af0b-4510-e973-4334a8cb9a1f"
      },
      "source": [
        "import datetime as dt\n",
        "\n",
        "fig, ax = plt.subplots(figsize=(8,4), dpi=100)\n",
        "\n",
        "plt.plot(mins.index, mins, c='#53868b', lw=1, zorder=1)\n",
        "plt.plot(maxs.index, maxs, c='#ee7621', lw=1, zorder=1)\n",
        "\n",
        "plt.scatter(below_rec_15.index, below_rec_15, c='r', marker='o', s=10, zorder=2)\n",
        "plt.scatter(above_rec_15.index, above_rec_15, c='blue', marker='o', s=10, zorder=2)\n",
        "\n",
        "plt.axhline(min_0514, lw=0.5, color='blue')\n",
        "plt.axhline(max_0514, lw=0.5, color='red')\n",
        "\n",
        "ax.set_title('Historical Temperature Range in Ann Arbor, MI')\n",
        "\n",
        "ax.legend(['Daily Min', 'Daily Max',\n",
        "           'Historical Minimum', 'Historical Maximum',\n",
        "           'Record Low Broken in 2015', 'Record High Broken in 2015'],\n",
        "           fontsize=6, frameon=False, loc=8, ncol=3)\n",
        "\n",
        "ax.set_ylabel('Temperature (tenths of $^\\circ$C)')\n",
        "ax.set_xlabel('Month of the Year')\n",
        "\n",
        "m = ['Jan', 'Feb', 'Mar', 'Apr', 'May', 'Jun', 'Jul', 'Aug', 'Sep', 'Oct', 'Nov', 'Dec']\n",
        "ax.set_xticklabels(m)\n",
        "\n",
        "fig.gca().xaxis.set_major_locator(plt.MaxNLocator(12))\n",
        "\n",
        "\n",
        "plt.gca().spines['top'].set_visible(False)\n",
        "plt.gca().spines['right'].set_visible(False)\n",
        "plt.fill_between(by_day.index,\n",
        "                 mins, maxs,\n",
        "                 facecolor='y',\n",
        "                 alpha=0.5)\n",
        "\n",
        "# Fixes from discussion board.\n",
        "fig.patch.set_facecolor('white')\n",
        "fig.patch.set_alpha(1)"
      ],
      "execution_count": null,
      "outputs": [
        {
          "output_type": "display_data",
          "data": {
            "image/png": "[encoded data removed]",
            "text/plain": [
              "<Figure size 800x400 with 1 Axes>"
            ]
          },
          "metadata": {}
        }
      ]
    },
    {
      "cell_type": "code",
      "metadata": {
        "id": "RY7t3AZH9aK8"
      },
      "source": [
        ""
      ],
      "execution_count": null,
      "outputs": []
    }
  ]
}